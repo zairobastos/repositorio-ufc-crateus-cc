{
  "cells": [
    {
      "cell_type": "raw",
      "metadata": {
        "id": "VEiFiQACYdju"
      },
      "source": [
        "OBS: Para geração dos modelos abaixo, utilize as bibliotecas vistas em sala de aula"
      ]
    },
    {
      "cell_type": "markdown",
      "metadata": {
        "id": "5GT6CuC7Ydjy"
      },
      "source": [
        "## Carregue o dataset"
      ]
    },
    {
      "cell_type": "raw",
      "metadata": {
        "id": "J4gc-vDsYdj2"
      },
      "source": [
        "LINK DOWNLOAD DO DATASET: https://www.kaggle.com/camnugent/california-housing-prices"
      ]
    },
    {
      "cell_type": "code",
      "execution_count": null,
      "metadata": {
        "id": "jjtHPD1nYdj4"
      },
      "outputs": [],
      "source": []
    },
    {
      "cell_type": "markdown",
      "metadata": {
        "id": "7w7XCl_FYdj5"
      },
      "source": [
        "### Identifique as variáveis independentes e dependentes e associe-as às suas respectivas variáveis"
      ]
    },
    {
      "cell_type": "code",
      "execution_count": null,
      "metadata": {
        "id": "ZWhzPwqrYdj6"
      },
      "outputs": [],
      "source": []
    },
    {
      "cell_type": "markdown",
      "metadata": {
        "id": "wSyCH-uKYdj7"
      },
      "source": [
        "# --------------Regressão Linear Univariada--------------"
      ]
    },
    {
      "cell_type": "markdown",
      "metadata": {
        "id": "3edduxrAYdj8"
      },
      "source": [
        "### Escolha uma coluna do dataset para variável independente - aquela que você considera fazer sentido para predizer o preço de uma casa - e gere um modelo de regressão linear univariada.  \n",
        "#### Para esta tarefa, não é necessário normalizar os dados, nem gerar divisão treino e teste. \n",
        "### Use o conjunto de dados ex1data1.txt\n",
        "### Para este algoritmo utilize α = 0.001 e utilize 1000 épocas de treinamento. Para cada época de treinamento, calcule o erro quadrático médio (EQM)"
      ]
    },
    {
      "cell_type": "code",
      "execution_count": null,
      "metadata": {
        "id": "DLjiDrRBYdj9"
      },
      "outputs": [],
      "source": []
    },
    {
      "cell_type": "markdown",
      "metadata": {
        "id": "FR79L5YrYdj-"
      },
      "source": [
        "### Plote o gráfico com a saída do modelo.\n",
        "#### Para esta questão, basta visualizar o comportamento da reta gerada no modelo (sem utilizar métricas de avaliação como EQM ou R2)"
      ]
    },
    {
      "cell_type": "code",
      "execution_count": null,
      "metadata": {
        "id": "5MO6Bq4WYdj_"
      },
      "outputs": [],
      "source": []
    },
    {
      "cell_type": "markdown",
      "metadata": {
        "id": "yW4GTLIpYdkA"
      },
      "source": [
        "# --------------Normalização, Treino e teste--------------"
      ]
    },
    {
      "cell_type": "markdown",
      "metadata": {
        "id": "fluMYqpMYdkB"
      },
      "source": [
        "### OBS: A partir de agora, todos os dados de entrada deverão ser normalizados e todos os modelos gerados deverão ser divididos em conjunto de treino e teste, e validados utilizando as métricas EQM e R2"
      ]
    },
    {
      "cell_type": "markdown",
      "metadata": {
        "id": "pNljD-wSYdkB"
      },
      "source": [
        "## Refaça a questão anterior (gerar um modelo univariado) normalizando os dados, separando os dados em treino e teste, sem plotar gráfico, apenas plotando as saídas das métricas (EQM e R2) do conjunto de teste.\n",
        "#### Para essa questão, ainda não será necessário utilizar Grid Search e/ou k-fold (validação cruzada)"
      ]
    },
    {
      "cell_type": "code",
      "execution_count": null,
      "metadata": {
        "id": "jmotAkctYdkC"
      },
      "outputs": [],
      "source": []
    },
    {
      "cell_type": "markdown",
      "metadata": {
        "id": "lZiVi0rWYdkD"
      },
      "source": [
        "## Gere um modelo de regressão linear multivariado (utilizando agora todas as colunas numéricas das variáveis independentes)\n",
        "### Normalizar os dados, dividir em treino e teste, usar métricas de validação. Não precisa k-fold/ grid search.\n",
        "### use o dataset ex1data2.txt\n",
        "### dica Para este algoritmo utilize α = 0.01 e utilize 100 épocas de treinamento. Para cada época de treinamento, calcule o erro quadrático médio (EQM)"
      ]
    },
    {
      "cell_type": "code",
      "execution_count": null,
      "metadata": {
        "id": "-yoBmZdhYdkD"
      },
      "outputs": [],
      "source": []
    },
    {
      "cell_type": "markdown",
      "metadata": {
        "id": "t2RSpMs3YdkE"
      },
      "source": [
        "# --------------Grid Search--------------"
      ]
    },
    {
      "cell_type": "markdown",
      "metadata": {
        "id": "t2hUgGWpYdkE"
      },
      "source": [
        "### Utilizando a técnica de grid search, encontre o melhor hiperparâmetro gerando um modelo de regressão linear multivariada regularizado (mostre o melhor hiperparâmetro encontrado).\n",
        "### Não esqueça de normalizar os dados e dividir o conjunto em treino/ teste e mostrar as métricas EQM e R2\n",
        "### Utilize k-fold com k = 5"
      ]
    },
    {
      "cell_type": "code",
      "execution_count": null,
      "metadata": {
        "id": "KcoCbACfYdkF"
      },
      "outputs": [],
      "source": []
    },
    {
      "cell_type": "markdown",
      "metadata": {
        "id": "l47S_2HhYdkG"
      },
      "source": [
        "### Utilizando a técnica de grid search, encontre o melhor hiperparâmetro gerando um modelo de regressão polinomial multivariada (mostre qual foi o melhor grau do polinômio encontrado - basta exibir a variável, não precisa plotar gráfico).\n",
        "### Não esqueça de normalizar os dados e dividir o conjunto em treino/ teste e mostrar as métricas EQM e R2\n",
        "### Utilize k-fold com k = 5"
      ]
    },
    {
      "cell_type": "code",
      "execution_count": null,
      "metadata": {
        "id": "j1Mc3wlpYdkH"
      },
      "outputs": [],
      "source": []
    },
    {
      "cell_type": "markdown",
      "metadata": {
        "id": "ubmEE6ibYdkI"
      },
      "source": [
        "# --------------Outer Cross-Validation--------------"
      ]
    },
    {
      "cell_type": "markdown",
      "metadata": {
        "id": "UN-IDLxpYdkI"
      },
      "source": [
        "## Refaça os modelos de Regressão Linear Multivariada e Regressão Polinomial Multivariada da questão anterior agora incluindo outer cross-validation. Veja se o EQM/R2 se manteve na média para os diferentes conjuntos de treino.\n",
        "### Grid Search, normalização, divisão treino-teste e exibir métricas EQM e R2 ainda se mantém necessárias."
      ]
    },
    {
      "cell_type": "code",
      "execution_count": null,
      "metadata": {
        "id": "tNAVd3aUYdkJ"
      },
      "outputs": [],
      "source": []
    }
  ],
  "metadata": {
    "kernelspec": {
      "display_name": "Python 3",
      "language": "python",
      "name": "python3"
    },
    "language_info": {
      "codemirror_mode": {
        "name": "ipython",
        "version": 3
      },
      "file_extension": ".py",
      "mimetype": "text/x-python",
      "name": "python",
      "nbconvert_exporter": "python",
      "pygments_lexer": "ipython3",
      "version": "3.8.5"
    },
    "colab": {
      "provenance": []
    }
  },
  "nbformat": 4,
  "nbformat_minor": 0
}